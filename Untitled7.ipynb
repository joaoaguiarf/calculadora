{
  "nbformat": 4,
  "nbformat_minor": 0,
  "metadata": {
    "colab": {
      "provenance": [],
      "authorship_tag": "ABX9TyNIBssO199dI2qGeuIv3lvT",
      "include_colab_link": true
    },
    "kernelspec": {
      "name": "python3",
      "display_name": "Python 3"
    },
    "language_info": {
      "name": "python"
    }
  },
  "cells": [
    {
      "cell_type": "markdown",
      "metadata": {
        "id": "view-in-github",
        "colab_type": "text"
      },
      "source": [
        "<a href=\"https://colab.research.google.com/github/joaoaguiarf/calculadora/blob/main/Untitled7.ipynb\" target=\"_parent\"><img src=\"https://colab.research.google.com/assets/colab-badge.svg\" alt=\"Open In Colab\"/></a>"
      ]
    },
    {
      "cell_type": "code",
      "execution_count": null,
      "metadata": {
        "colab": {
          "base_uri": "https://localhost:8080/"
        },
        "id": "JDkRFkdekI1Q",
        "outputId": "79d7ad2d-dd46-4c8b-805d-6ded112a060c"
      },
      "outputs": [
        {
          "name": "stdout",
          "output_type": "stream",
          "text": [
            "Digite o primeiro número: 8\n",
            "Digite o segundo número: 90\n"
          ]
        }
      ],
      "source": [
        "def calculadora(num1, num2, operacao):\n",
        "    if operacao == 1:\n",
        "        return num1 + num2\n",
        "    elif operacao == 2:\n",
        "        return num1 - num2\n",
        "    elif operacao == 3:\n",
        "        return num1 * num2\n",
        "    elif operacao == 4:\n",
        "        if num2 != 0:\n",
        "            return num1 / num2\n",
        "        else:\n",
        "            mensagem = \"Não é possível dividir por zero. Operação inválida.\"\n",
        "        print(mensagem)\n",
        "    return 0\n",
        "\n",
        "# Função para verificar se a entrada é um número inteiro\n",
        "def verificar_numero(entrada):\n",
        "    try:\n",
        "        return int(entrada)\n",
        "    except ValueError:\n",
        "        print(\"Entrada inválida. Por favor, insira um número inteiro.\")\n",
        "        return None\n",
        "\n",
        "# Entrada dos números e da operação\n",
        "entrada_num1 = input(\"Digite o primeiro número: \")\n",
        "entrada_num2 = input(\"Digite o segundo número: \")\n",
        "entrada_operacao = input(\"Digite o número correspondente à operação desejada (1: Soma, 2: Subtração, 3: Multiplicação, 4: Divisão): \")\n",
        "\n",
        "# Verifica se as entradas são números inteiros\n",
        "num1 = verificar_numero(entrada_num1)\n",
        "num2 = verificar_numero(entrada_num2)\n",
        "operacao = verificar_numero(entrada_operacao)\n",
        "\n",
        "# Se todas as entradas forem números inteiros, realiza a operação\n",
        "if num1 is not None and num2 is not None and operacao is not None:\n",
        "    resultado = calculadora(num1, num2, operacao)\n",
        "    print(\"Resultado da operação:\", resultado)\n"
      ]
    }
  ]
}